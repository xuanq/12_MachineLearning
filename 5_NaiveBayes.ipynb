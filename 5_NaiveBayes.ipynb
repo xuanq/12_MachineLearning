{
 "cells": [
  {
   "cell_type": "code",
   "execution_count": 8,
   "source": [
    "import pandas as pd\r\n",
    "from sklearn.datasets import fetch_20newsgroups\r\n",
    "from sklearn.naive_bayes import MultinomialNB\r\n",
    "from sklearn.model_selection import train_test_split\r\n",
    "from sklearn.feature_extraction.text import TfidfVectorizer"
   ],
   "outputs": [],
   "metadata": {}
  },
  {
   "cell_type": "code",
   "execution_count": 2,
   "source": [
    "NB = MultinomialNB(alpha=1)"
   ],
   "outputs": [],
   "metadata": {}
  },
  {
   "cell_type": "code",
   "execution_count": 3,
   "source": [
    "news = fetch_20newsgroups(data_home = 'data/',subset='all')"
   ],
   "outputs": [],
   "metadata": {}
  },
  {
   "cell_type": "code",
   "execution_count": 5,
   "source": [
    "x_train, x_test, y_train, y_test = train_test_split(news.data, news.target)"
   ],
   "outputs": [],
   "metadata": {}
  },
  {
   "cell_type": "code",
   "execution_count": 9,
   "source": [
    "tf = TfidfVectorizer()"
   ],
   "outputs": [],
   "metadata": {}
  },
  {
   "cell_type": "code",
   "execution_count": 10,
   "source": [
    "x_train = tf.fit_transform(x_train)"
   ],
   "outputs": [],
   "metadata": {}
  },
  {
   "cell_type": "code",
   "execution_count": 13,
   "source": [
    "x_train"
   ],
   "outputs": [
    {
     "output_type": "execute_result",
     "data": {
      "text/plain": [
       "<14134x146340 sparse matrix of type '<class 'numpy.float64'>'\n",
       "\twith 2215296 stored elements in Compressed Sparse Row format>"
      ]
     },
     "metadata": {},
     "execution_count": 13
    }
   ],
   "metadata": {}
  },
  {
   "cell_type": "code",
   "execution_count": 12,
   "source": [
    "x_test = tf.transform(x_test)"
   ],
   "outputs": [],
   "metadata": {}
  },
  {
   "cell_type": "code",
   "execution_count": null,
   "source": [],
   "outputs": [],
   "metadata": {}
  }
 ],
 "metadata": {
  "orig_nbformat": 4,
  "language_info": {
   "version": "3.5.6",
   "nbconvert_exporter": "python",
   "codemirror_mode": {
    "version": 3,
    "name": "ipython"
   },
   "mimetype": "text/x-python",
   "pygments_lexer": "ipython3",
   "name": "python",
   "file_extension": ".py"
  },
  "kernelspec": {
   "name": "python3",
   "display_name": "Python 3.5.6 64-bit ('ml_py35': conda)"
  },
  "interpreter": {
   "hash": "9394a2e1f8a4397226e48465a7293450c2d0b8d6182ed31c83ebb5e495295000"
  }
 },
 "nbformat": 4,
 "nbformat_minor": 2
}