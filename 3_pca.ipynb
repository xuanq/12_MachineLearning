{
 "cells": [
  {
   "cell_type": "code",
   "execution_count": 1,
   "source": [
    "import numpy as np\r\n",
    "import pandas as pd\r\n",
    "from sklearn.feature_selection import VarianceThreshold  # 删除方差小于某一阈值的\r\n",
    "from sklearn.decomposition import PCA"
   ],
   "outputs": [],
   "metadata": {}
  },
  {
   "cell_type": "code",
   "execution_count": 5,
   "source": [
    "# 读取四张表的数据\r\n",
    "aisle = pd.read_csv('data/pca/aisles.csv')\r\n",
    "detail = pd.read_csv('data/pca/order_products__prior.csv')\r\n",
    "products = pd.read_csv('data/pca/products.csv')\r\n",
    "orders = pd.read_csv('data/pca/orders.csv')"
   ],
   "outputs": [],
   "metadata": {}
  },
  {
   "cell_type": "code",
   "execution_count": 5,
   "source": [
    "_df_temp=pd.merge(detail,products,on='product_id')\r\n",
    "_df_temp=pd.merge(_df_temp,orders,on='order_id')\r\n",
    "data=pd.merge(_df_temp,aisle,on='aisle_id')"
   ],
   "outputs": [],
   "metadata": {}
  },
  {
   "cell_type": "code",
   "execution_count": 6,
   "source": [
    "cross_df = pd.crosstab(data['user_id'],data['aisle'])"
   ],
   "outputs": [],
   "metadata": {}
  },
  {
   "cell_type": "code",
   "execution_count": 8,
   "source": [
    "pca = PCA(n_components=0.93)"
   ],
   "outputs": [],
   "metadata": {}
  },
  {
   "cell_type": "code",
   "execution_count": 9,
   "source": [
    "pca_df = pca.fit_transform(cross_df)"
   ],
   "outputs": [],
   "metadata": {}
  },
  {
   "cell_type": "code",
   "execution_count": 10,
   "source": [
    "pca_df"
   ],
   "outputs": [
    {
     "output_type": "execute_result",
     "data": {
      "text/plain": [
       "array([[-24.21565874,   2.4294272 ,  -2.46636975, ...,   2.33555295,\n",
       "         -3.04647865,  -1.46497789],\n",
       "       [  6.46320806,  36.75111647,   8.38255336, ...,  -3.02355407,\n",
       "         -1.0253661 ,   1.04453719],\n",
       "       [ -7.99030162,   2.40438257, -11.03006405, ...,  -0.22939247,\n",
       "         -1.2329344 ,  -2.01494487],\n",
       "       ...,\n",
       "       [  8.61143331,   7.70129866,   7.95240226, ...,  -2.1924078 ,\n",
       "         -2.98961684,   1.7222929 ],\n",
       "       [ 84.08621987,  20.41873398,   8.05410372, ...,   2.09294875,\n",
       "          0.29307638,   2.72581768],\n",
       "       [-13.95345619,   6.64621821,  -5.23030367, ...,  -1.47828193,\n",
       "          0.93098723,  -0.39632797]])"
      ]
     },
     "metadata": {},
     "execution_count": 10
    }
   ],
   "metadata": {}
  },
  {
   "cell_type": "code",
   "execution_count": null,
   "source": [],
   "outputs": [],
   "metadata": {}
  }
 ],
 "metadata": {
  "orig_nbformat": 4,
  "language_info": {
   "name": "python",
   "version": "3.5.6",
   "mimetype": "text/x-python",
   "codemirror_mode": {
    "name": "ipython",
    "version": 3
   },
   "pygments_lexer": "ipython3",
   "nbconvert_exporter": "python",
   "file_extension": ".py"
  },
  "kernelspec": {
   "name": "python3",
   "display_name": "Python 3.5.6 64-bit ('ml_py35': conda)"
  },
  "interpreter": {
   "hash": "9394a2e1f8a4397226e48465a7293450c2d0b8d6182ed31c83ebb5e495295000"
  }
 },
 "nbformat": 4,
 "nbformat_minor": 2
}